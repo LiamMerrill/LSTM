{
  "nbformat": 4,
  "nbformat_minor": 0,
  "metadata": {
    "colab": {
      "provenance": []
    },
    "kernelspec": {
      "name": "python3",
      "display_name": "Python 3"
    },
    "language_info": {
      "name": "python"
    }
  },
  "cells": [
    {
      "cell_type": "code",
      "execution_count": null,
      "metadata": {
        "colab": {
          "base_uri": "https://localhost:8080/"
        },
        "id": "jLNUhBbkSeum",
        "outputId": "4268b890-ee10-4ec0-8f1c-cedf04d80100"
      },
      "outputs": [
        {
          "output_type": "stream",
          "name": "stderr",
          "text": [
            "[nltk_data] Downloading package vader_lexicon to /root/nltk_data...\n",
            "[nltk_data] Downloading package words to /root/nltk_data...\n",
            "[nltk_data]   Unzipping corpora/words.zip.\n"
          ]
        },
        {
          "output_type": "execute_result",
          "data": {
            "text/plain": [
              "True"
            ]
          },
          "metadata": {},
          "execution_count": 1
        }
      ],
      "source": [
        "import nltk\n",
        "nltk.download('vader_lexicon')\n",
        "from nltk.sentiment.vader import SentimentIntensityAnalyzer\n",
        "\n",
        "sid = SentimentIntensityAnalyzer()\n",
        "\n",
        "import re\n",
        "import pandas as pd\n",
        "import nltk\n",
        "nltk.download('words')"
      ]
    },
    {
      "cell_type": "markdown",
      "source": [
        "# Read Data"
      ],
      "metadata": {
        "id": "YOzXIVH1hz_u"
      }
    },
    {
      "cell_type": "code",
      "source": [
        "from google.colab import drive\n",
        "import pandas as pd \n",
        "import string\n",
        "drive.mount(\"/content/drive\")\n"
      ],
      "metadata": {
        "colab": {
          "base_uri": "https://localhost:8080/"
        },
        "id": "rJuvXapqUWuM",
        "outputId": "b555f392-f1be-4249-d6d1-7a6acd5ac9d6"
      },
      "execution_count": null,
      "outputs": [
        {
          "output_type": "stream",
          "name": "stdout",
          "text": [
            "Mounted at /content/drive\n"
          ]
        }
      ]
    },
    {
      "cell_type": "code",
      "source": [
        "import pandas as pd\n",
        "import os\n",
        "import glob\n",
        "# use glob to get all the csv files \n",
        "# in the folder\n",
        "path = \"/content/drive/MyDrive/Tweet_data/AAPL/\"\n",
        "csv_files = glob.glob(os.path.join(path, \"*.csv\"))\n",
        "\n",
        "# loop over the list of csv files\n",
        "for f in csv_files:\n",
        "  print(f)\n",
        "  #read the csv file\n",
        "  #df = pd.read_csv(f)\n"
      ],
      "metadata": {
        "id": "RpvBrzwaTdio",
        "colab": {
          "base_uri": "https://localhost:8080/"
        },
        "outputId": "2aab57e4-f374-420f-a61e-c0e9c7c69506"
      },
      "execution_count": null,
      "outputs": [
        {
          "output_type": "stream",
          "name": "stdout",
          "text": [
            "/content/drive/MyDrive/Tweet_data/AAPL/tweets_21.csv\n",
            "/content/drive/MyDrive/Tweet_data/AAPL/tweets_20.csv\n",
            "/content/drive/MyDrive/Tweet_data/AAPL/tweets_19.csv\n",
            "/content/drive/MyDrive/Tweet_data/AAPL/tweets_18.csv\n",
            "/content/drive/MyDrive/Tweet_data/AAPL/tweets_17.csv\n",
            "/content/drive/MyDrive/Tweet_data/AAPL/tweets_16.csv\n"
          ]
        }
      ]
    },
    {
      "cell_type": "code",
      "source": [
        "#combine all 2022 files\n",
        "'''\n",
        "df1=pd.read_csv('/content/drive/MyDrive/Tweet_data/AAPL/2022/tweets_01.csv')\n",
        "df2=pd.read_csv('/content/drive/MyDrive/Tweet_data/AAPL/2022/tweets_2202.csv')\n",
        "df3=pd.read_csv('/content/drive/MyDrive/Tweet_data/AAPL/2022/tweets_22_03.csv')\n",
        "df4=pd.read_csv('/content/drive/MyDrive/Tweet_data/AAPL/2022/tweets_22_04.csv')\n",
        "df5=pd.read_csv('/content/drive/MyDrive/Tweet_data/AAPL/2022/tweets_22_05.csv')\n",
        "df6=pd.read_csv('/content/drive/MyDrive/Tweet_data/AAPL/2022/tweets_22_06.csv')\n",
        "df7=pd.read_csv('/content/drive/MyDrive/Tweet_data/AAPL/2022/tweets_22_07_12.csv')\n",
        "\n",
        "df = pd.concat([df1,df2,df3,df4,df5,df6,df7])\n",
        "df\n",
        "'''\n",
        "\n",
        "'''\n",
        "df21=pd.read_csv('/content/drive/MyDrive/Tweet_data/AAPL/tweets_21.csv')\n",
        "df20=pd.read_csv('/content/drive/MyDrive/Tweet_data/AAPL/tweets_20.csv')\n",
        "#df19=pd.read_csv('/content/drive/MyDrive/Tweet_data/AAPL/tweets_19.csv')\n",
        "#df18=pd.read_csv('/content/drive/MyDrive/Tweet_data/AAPL/tweets_18.csv')\n",
        "'''\n",
        "\n",
        "'''\n",
        "df = pd.concat([df20,df21])\n",
        "df.to_csv('/content/drive/MyDrive/Tweet_data/AAPL/tweets_21_20.csv')\n",
        "df2120 = pd.read_csv('/content/drive/MyDrive/Tweet_data/AAPL/tweets_21_20.csv')\n",
        "'''"
      ],
      "metadata": {
        "id": "wyUC5dk3famq",
        "colab": {
          "base_uri": "https://localhost:8080/",
          "height": 53
        },
        "outputId": "6141a8b2-9ea9-464b-b5b1-cebc97516084"
      },
      "execution_count": null,
      "outputs": [
        {
          "output_type": "execute_result",
          "data": {
            "text/plain": [
              "\"\\ndf = pd.concat([df20,df21])\\ndf.to_csv('/content/drive/MyDrive/Tweet_data/AAPL/tweets_21_20.csv')\\ndf2120 = pd.read_csv('/content/drive/MyDrive/Tweet_data/AAPL/tweets_21_20.csv')\\n\""
            ],
            "application/vnd.google.colaboratory.intrinsic+json": {
              "type": "string"
            }
          },
          "metadata": {},
          "execution_count": 4
        }
      ]
    },
    {
      "cell_type": "code",
      "source": [
        "#df = pd.read_csv('/content/drive/MyDrive/Tweet_data/AAPL/tweets_20.csv')\n",
        "df = pd.read_csv('/content/drive/MyDrive/Tweet_data/GOOG/tweets_1.csv')\n"
      ],
      "metadata": {
        "id": "s56byoyJfQGn"
      },
      "execution_count": null,
      "outputs": []
    },
    {
      "cell_type": "code",
      "source": [
        "# extract year, month, day\n",
        "import datetime\n",
        "df['tweet.date'] = pd.to_datetime(df['tweet.date'])\n",
        "df['year'] = df['tweet.date'].dt.year\n",
        "df['month'] = df['tweet.date'].dt.month \n",
        "df['day'] = df['tweet.date'].dt.day "
      ],
      "metadata": {
        "id": "3igo3VIAe4KJ"
      },
      "execution_count": null,
      "outputs": []
    },
    {
      "cell_type": "markdown",
      "source": [
        "# Pre-processing"
      ],
      "metadata": {
        "id": "vkEknVimiV84"
      }
    },
    {
      "cell_type": "code",
      "source": [
        "def cleaner(tweet):\n",
        "    tweet = re.sub(\"@[A-Za-z0-9]+\",\"\",tweet) #Remove @ sign\n",
        "    tweet = re.sub(r\"(?:\\@|http?\\://|https?\\://|www)\\S+\", \"\", tweet) #Remove http links\n",
        "    tweet = \" \".join(tweet.split())\n",
        "    tweet = tweet.replace(\"#\", \"\").replace(\"_\", \" \") #Remove hashtag sign but keep the text\n",
        "    tweet = \" \".join(w for w in nltk.wordpunct_tokenize(tweet))\n",
        "    return tweet\n",
        "\n",
        "df['tweet_clean'] = df['tweet.content'].apply(cleaner)"
      ],
      "metadata": {
        "id": "x_t1qoDJgPrw"
      },
      "execution_count": null,
      "outputs": []
    },
    {
      "cell_type": "code",
      "source": [
        "import nltk\n",
        "nltk.download('vader_lexicon')\n",
        "from nltk.sentiment.vader import SentimentIntensityAnalyzer\n",
        "\n",
        "sid = SentimentIntensityAnalyzer()\n",
        "#sid.lexicon.update(word_dict)\n",
        "\n",
        "list1 = []\n",
        "for i in df['tweet_clean']:\n",
        "    list1.append((sid.polarity_scores(str(i)))['compound'])"
      ],
      "metadata": {
        "id": "PI6EVjzzgrki"
      },
      "execution_count": null,
      "outputs": []
    },
    {
      "cell_type": "markdown",
      "source": [
        "# Sentiment"
      ],
      "metadata": {
        "id": "_irW3Yd-ibhq"
      }
    },
    {
      "cell_type": "code",
      "source": [
        "df['sentiment'] = pd.Series(list1)"
      ],
      "metadata": {
        "id": "z5tx7DUQg3Ui"
      },
      "execution_count": null,
      "outputs": []
    },
    {
      "cell_type": "code",
      "source": [
        "def sentiment_category(sentiment):\n",
        "    label = ''\n",
        "    if(sentiment>0):\n",
        "        label = 'positive'\n",
        "    elif(sentiment == 0):\n",
        "        label = 'neutral'\n",
        "    else:\n",
        "        label = 'negative'\n",
        "    return(label)\n",
        "\n",
        "df['sentiment_category'] = df['sentiment'].apply(sentiment_category)"
      ],
      "metadata": {
        "id": "fSU52VGIg6z0"
      },
      "execution_count": null,
      "outputs": []
    },
    {
      "cell_type": "code",
      "source": [
        "from datetime import date\n",
        "DATE = []\n",
        "for y, m, d in zip(df.year, df.month,df.day):\n",
        "    DATE.append(date(y, m, d))\n",
        "df['DATE'] = DATE"
      ],
      "metadata": {
        "id": "rNm9LLIpdvqz"
      },
      "execution_count": null,
      "outputs": []
    },
    {
      "cell_type": "code",
      "source": [
        "df_new = df[['tweet.content','DATE','year','month','day','sentiment','sentiment_category','likeCount','retweetCount','replyCount']]\n",
        "df_new.head()"
      ],
      "metadata": {
        "id": "UntuYbTNhMpC"
      },
      "execution_count": null,
      "outputs": []
    },
    {
      "cell_type": "code",
      "source": [
        "df_new_1 = df_new.groupby('DATE').mean()\n",
        "df_new_1"
      ],
      "metadata": {
        "id": "Z64T6dzGdeI3"
      },
      "execution_count": null,
      "outputs": []
    },
    {
      "cell_type": "markdown",
      "source": [
        "# OUTPUT final results"
      ],
      "metadata": {
        "id": "kxeiI5-oMWrs"
      }
    },
    {
      "cell_type": "code",
      "source": [
        "df_new_1.to_csv('/content/drive/MyDrive/Tweet_data/tweets_GOOG_sent1.csv')"
      ],
      "metadata": {
        "id": "he-MJqd4mDD4"
      },
      "execution_count": null,
      "outputs": []
    },
    {
      "cell_type": "code",
      "source": [
        "df1 = pd.read_csv('/content/drive/MyDrive/Tweet_data/tweets_GOOG_sent1.csv')\n",
        "df2 = pd.read_csv('/content/drive/MyDrive/Tweet_data/tweets_GOOG_sent2.csv')\n",
        "df_sent = pd.concat([df1,df2])\n",
        "df_sent.to_csv('/content/drive/MyDrive/Tweet_data/tweets_GOOG_sent.csv')\n"
      ],
      "metadata": {
        "id": "Q8Rqww8JvzCd"
      },
      "execution_count": null,
      "outputs": []
    },
    {
      "cell_type": "code",
      "source": [
        "'''\n",
        "df16 = pd.read_csv('/content/drive/MyDrive/Tweet_data/tweets_APPL_sent_16.csv')\n",
        "df17 = pd.read_csv('/content/drive/MyDrive/Tweet_data/tweets_APPL_sent_17.csv')\n",
        "df18 = pd.read_csv('/content/drive/MyDrive/Tweet_data/tweets_APPL_sent_18.csv')\n",
        "df19 = pd.read_csv('/content/drive/MyDrive/Tweet_data/tweets_APPL_sent_19.csv')\n",
        "df20 = pd.read_csv('/content/drive/MyDrive/Tweet_data/tweets_APPL_sent_20.csv')\n",
        "df21 = pd.read_csv('/content/drive/MyDrive/Tweet_data/tweets_APPL_sent_21.csv')\n",
        "df22 = pd.read_csv('/content/drive/MyDrive/Tweet_data/tweets_APPL_sent_22.csv')\n",
        "\n",
        "df_sent = pd.concat([df16,df17,df18,df19,df20,df21,df22])\n",
        "df_sent.to_csv('/content/drive/MyDrive/Tweet_data/tweets_APPL_sent.csv')\n",
        "'''\n"
      ],
      "metadata": {
        "id": "y_HzxsFfeUl3"
      },
      "execution_count": null,
      "outputs": []
    }
  ]
}